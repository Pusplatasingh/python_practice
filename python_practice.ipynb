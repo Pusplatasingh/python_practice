{
 "cells": [
  {
   "cell_type": "markdown",
   "id": "48aab051-c01f-45a4-859a-cc142d28cbf1",
   "metadata": {},
   "source": [
    "### What is Python?\n",
    "Python is a high-level, easy-to-read programming language used for many purposes like web development, data analysis, automation, and more."
   ]
  },
  {
   "cell_type": "markdown",
   "id": "d03ae046-1154-4ef2-8154-9f7ab1e05134",
   "metadata": {},
   "source": [
    "### Writing Your First Python Code\n",
    "▶️ Initialization (Variables)\n",
    "Variables are used to store data in Python"
   ]
  },
  {
   "cell_type": "code",
   "execution_count": 4,
   "id": "bcbb8982-150b-43bd-b12e-e5788ac0261d",
   "metadata": {},
   "outputs": [
    {
     "name": "stdout",
     "output_type": "stream",
     "text": [
      "Hello Pusplata Singh\n"
     ]
    }
   ],
   "source": [
    "name=\"Pusplata Singh\"#string\n",
    "print(\"Hello \"+name)"
   ]
  },
  {
   "cell_type": "code",
   "execution_count": 6,
   "id": "c777ec68-c1ef-4309-a031-4a4c9a5bf12e",
   "metadata": {},
   "outputs": [
    {
     "name": "stdout",
     "output_type": "stream",
     "text": [
      "Hi, My name is Pusplata Singh  age is 21 \n"
     ]
    }
   ],
   "source": [
    "name=\"Pusplata Singh\"\n",
    "age=21\n",
    "print(f\"Hi, My name is {name}  age is {age} \")"
   ]
  },
  {
   "cell_type": "markdown",
   "id": "141955b9-187b-41bb-855f-31f0dc25bb88",
   "metadata": {},
   "source": [
    "| Feature     | Using Commas               | Using f-Strings                |\n",
    "| ----------- | -------------------------- | ------------------------------ |\n",
    "| Simplicity  | ✔️ Good for basic printing | ✔️ Good and cleaner            |\n",
    "| Formatting  | ❌ Limited control          | ✔️ Powerful formatting options |\n",
    "| Expressions | ❌ Not inside strings       | ✔️ Use expressions inline      |\n",
    "| Readability | 😐 OK                      | ✔️ Very readable               |\n"
   ]
  },
  {
   "cell_type": "code",
   "execution_count": 8,
   "id": "cfa0a315-73c1-4c9f-a1a5-383de9b4400a",
   "metadata": {},
   "outputs": [
    {
     "name": "stdout",
     "output_type": "stream",
     "text": [
      "Hi, My name is Pusplata Singh age is  21\n"
     ]
    }
   ],
   "source": [
    "name=\"Pusplata Singh\"\n",
    "age=21\n",
    "print(\"Hi, My name is\",name, \"age is \",age )"
   ]
  },
  {
   "cell_type": "markdown",
   "id": "c4038704-cd0d-4ca0-95cd-9f14649b2d7a",
   "metadata": {},
   "source": [
    "### Numbers and Calculations\n",
    "Python can work with different types of numbers:\n",
    "\n",
    "🔢 Types of Numbers:\n",
    "Integers: Whole numbers (e.g. 5, -2, 100)\n",
    "\n",
    "Floats: Decimal numbers (e.g. 3.14, -0.5)\n",
    "\n",
    "✏️ Basic Math Operators:\n",
    "| Operation           | Symbol | Example  | Result |\n",
    "| ------------------- | ------ | -------- | ------ |\n",
    "| Addition            | `+`    | `5 + 3`  | `8`    |\n",
    "| Subtraction         | `-`    | `10 - 4` | `6`    |\n",
    "| Multiplication      | `*`    | `7 * 2`  | `14`   |\n",
    "| Division            | `/`    | `8 / 2`  | `4.0`  |\n",
    "| Integer Division    | `//`   | `9 // 2` | `4`    |\n",
    "| Modulus (Remainder) | `%`    | `10 % 3` | `1`    |\n",
    "| Power               | `**`   | `2 ** 3` | `8`    |\n"
   ]
  },
  {
   "cell_type": "code",
   "execution_count": 15,
   "id": "1d7dc2dd-f3eb-4eaf-8b6d-cf0354b89e99",
   "metadata": {},
   "outputs": [
    {
     "name": "stdout",
     "output_type": "stream",
     "text": [
      "add 3\n",
      "sub -1\n",
      "div 0.5\n",
      "mod 1\n",
      "mul 2\n",
      "pow 1\n",
      "divi 0\n"
     ]
    }
   ],
   "source": [
    "a=1\n",
    "b=2\n",
    "print(\"add\",a+b)\n",
    "print(\"sub\",a-b)\n",
    "print(\"div\",a/b)\n",
    "print(\"mod\",a%b)\n",
    "print(\"mul\",a*b)\n",
    "print(\"pow\",a**b)\n",
    "print(\"divi\",a//b)"
   ]
  },
  {
   "cell_type": "markdown",
   "id": "169dd503-263a-4bd0-ac7c-81ba7f07d4b5",
   "metadata": {},
   "source": [
    "### input() – Taking Input from the User\n",
    "- input() lets you ask the user for information while the program is running."
   ]
  },
  {
   "cell_type": "code",
   "execution_count": 17,
   "id": "4fd73cc8-a85a-4542-a241-6254f790bac8",
   "metadata": {},
   "outputs": [
    {
     "name": "stdin",
     "output_type": "stream",
     "text": [
      "Enter your name. Pusplata Singh\n"
     ]
    },
    {
     "name": "stdout",
     "output_type": "stream",
     "text": [
      "Pusplata Singh\n"
     ]
    }
   ],
   "source": [
    "#taking input from user\n",
    "name=input(\"Enter your name.\")\n",
    "print(name)"
   ]
  },
  {
   "cell_type": "markdown",
   "id": "59e74ada-e0e7-43e4-aea5-a622317b809d",
   "metadata": {},
   "source": [
    "### if, else, elif — Conditional Statements\n",
    "\n",
    "- Conditional statements let your program make decisions — like saying \"If this happens, do this, otherwise do that.\""
   ]
  },
  {
   "cell_type": "code",
   "execution_count": 21,
   "id": "0856f2f7-5c71-43bd-96d7-2a6678d4aa71",
   "metadata": {},
   "outputs": [
    {
     "name": "stdin",
     "output_type": "stream",
     "text": [
      "Enter ur age 21\n"
     ]
    },
    {
     "name": "stdout",
     "output_type": "stream",
     "text": [
      "Adult\n"
     ]
    }
   ],
   "source": [
    "#Conditional Condition\n",
    "age=int(input(\"Enter ur age\"))\n",
    "if age>=18:\n",
    "    print(\"Adult\")\n",
    "elif age>12:\n",
    "    print(\"teenage\")\n",
    "else :\n",
    "    print(\"child\")"
   ]
  },
  {
   "cell_type": "markdown",
   "id": "79fa0e8e-fbbe-4764-97ba-c06e36c6c6fb",
   "metadata": {},
   "source": [
    "### Loops – Repeating Code\n",
    "- Loops let you run code multiple times without rewriting it.\n",
    "\n",
    "Two Main Types of Loops in Python:\n",
    "| Loop Type | Use When You...                            |\n",
    "| --------- | ------------------------------------------ |\n",
    "| `for`     | Know **how many times** you want to repeat |\n",
    "| `while`   | Repeat **until a condition** is false      |\n"
   ]
  },
  {
   "cell_type": "code",
   "execution_count": 24,
   "id": "b462dbf9-fb61-40a8-a4d9-cc7da167dcc4",
   "metadata": {},
   "outputs": [
    {
     "name": "stdout",
     "output_type": "stream",
     "text": [
      "HELLO\n",
      "HELLO\n",
      "HELLO\n",
      "HELLO\n",
      "HELLO\n"
     ]
    }
   ],
   "source": [
    "\n",
    "for i in range(5):\n",
    "    print(\"HELLO\")"
   ]
  },
  {
   "cell_type": "code",
   "execution_count": 26,
   "id": "a05af52d-3cd6-4866-a057-412787022380",
   "metadata": {},
   "outputs": [
    {
     "name": "stdout",
     "output_type": "stream",
     "text": [
      "Count is 0\n",
      "Count is 1\n",
      "Count is 2\n",
      "Count is 3\n",
      "Count is 4\n"
     ]
    }
   ],
   "source": [
    "count = 0\n",
    "\n",
    "while count < 5:\n",
    "    print(\"Count is\", count)\n",
    "    count += 1\n"
   ]
  },
  {
   "cell_type": "markdown",
   "id": "77390972-febc-4810-9f45-fa0d99f22f04",
   "metadata": {},
   "source": [
    "### Lists — Storing Multiple Values\n",
    "What is a list?\n",
    "- A list is a collection of items (numbers, strings, or even other lists).\n",
    "- Lists are ordered and changeable (you can add, remove, or change items)."
   ]
  },
  {
   "cell_type": "markdown",
   "id": "1068cc98-2238-4966-b724-9d1db59559fa",
   "metadata": {},
   "source": [
    "### 📌 Creating a List:"
   ]
  },
  {
   "cell_type": "code",
   "execution_count": 27,
   "id": "3b792f30-5ecf-4a9f-a155-ce622fd9ea6c",
   "metadata": {},
   "outputs": [],
   "source": [
    "fruits = [\"apple\", \"banana\", \"cherry\"]\n",
    "numbers = [1, 2, 3, 4, 5]\n",
    "mixed = [\"Alice\", 42, 3.14, True]"
   ]
  },
  {
   "cell_type": "markdown",
   "id": "42622b8d-0557-4647-9bb5-2eb382097d63",
   "metadata": {},
   "source": [
    "### Accessing List Items:\n",
    "Use indexing: indexes start at 0"
   ]
  },
  {
   "cell_type": "code",
   "execution_count": 28,
   "id": "b04f3669-adfb-4664-9efa-5ca89ca86680",
   "metadata": {},
   "outputs": [
    {
     "name": "stdout",
     "output_type": "stream",
     "text": [
      "apple\n",
      "4\n"
     ]
    }
   ],
   "source": [
    "print(fruits[0])  # apple\n",
    "print(numbers[3]) # 4"
   ]
  },
  {
   "cell_type": "markdown",
   "id": "48f41cc0-26e7-4b8b-913b-f185ee31a1ea",
   "metadata": {},
   "source": [
    "### Modifying Lists:"
   ]
  },
  {
   "cell_type": "code",
   "execution_count": 29,
   "id": "b3a47108-ffd6-4886-b93a-99da33355d5a",
   "metadata": {},
   "outputs": [
    {
     "name": "stdout",
     "output_type": "stream",
     "text": [
      "['apple', 'blueberry', 'cherry']\n"
     ]
    }
   ],
   "source": [
    "fruits[1] = \"blueberry\"  # change banana to blueberry\n",
    "print(fruits)  # ['apple', 'blueberry', 'cherry']"
   ]
  },
  {
   "cell_type": "markdown",
   "id": "f3bfc974-3e2b-4abc-8c9a-618367cfeab5",
   "metadata": {},
   "source": [
    "### List Methods:\n",
    "\n",
    "| Method             | What it Does                     | Example                   |\n",
    "| ------------------ | -------------------------------- | ------------------------- |\n",
    "| `append()`         | Adds item to the end             | `fruits.append(\"orange\")` |\n",
    "| `remove()`         | Removes first matching item      | `fruits.remove(\"apple\")`  |\n",
    "| `pop()`            | Removes last item (or by index)  | `fruits.pop()`            |\n",
    "| `len()` (function) | Returns length (number of items) | `len(fruits)`             |\n"
   ]
  },
  {
   "cell_type": "markdown",
   "id": "248a0bd2-ed77-45d4-bcc5-55227b6ac323",
   "metadata": {},
   "source": [
    "### List Slicing — Getting Parts of a List\n",
    "What is slicing?\n",
    "- Slicing lets you get a sublist (a part of a list) by specifying a start and end index.\n",
    "\n",
    "sublist = my_list[start:end]\n",
    "- Includes elements from index start up to but not including index end.\n",
    "- Both start and end are optional."
   ]
  },
  {
   "cell_type": "code",
   "execution_count": 32,
   "id": "0ce450b2-400f-4154-ad10-6851c5df0cfa",
   "metadata": {},
   "outputs": [
    {
     "name": "stdout",
     "output_type": "stream",
     "text": [
      "['banana', 'cherry', 'date']\n",
      "['apple', 'banana', 'cherry']\n",
      "['cherry', 'date', 'elderberry']\n",
      "['apple', 'banana', 'cherry', 'date', 'elderberry']\n"
     ]
    }
   ],
   "source": [
    "fruits = [\"apple\", \"banana\", \"cherry\", \"date\", \"elderberry\"]\n",
    "\n",
    "print(fruits[1:4])   # ['banana', 'cherry', 'date']  (from index 1 to 3)\n",
    "print(fruits[:3])    # ['apple', 'banana', 'cherry'] (start defaults to 0)\n",
    "print(fruits[2:])    # ['cherry', 'date', 'elderberry'] (end defaults to end of list)\n",
    "print(fruits[:])     # entire list (copy)"
   ]
  },
  {
   "cell_type": "markdown",
   "id": "c064f838-c138-45d7-8364-a3f044568230",
   "metadata": {},
   "source": [
    "### Negative Indexing:\n",
    "You can use negative numbers to count from the end:"
   ]
  },
  {
   "cell_type": "code",
   "execution_count": 33,
   "id": "9d7e9672-94d4-4c4c-aeb6-622bb234050b",
   "metadata": {},
   "outputs": [
    {
     "name": "stdout",
     "output_type": "stream",
     "text": [
      "elderberry\n",
      "['cherry', 'date']\n"
     ]
    }
   ],
   "source": [
    "print(fruits[-1])   # 'elderberry' (last item)\n",
    "print(fruits[-3:-1]) # ['cherry', 'date']"
   ]
  },
  {
   "cell_type": "markdown",
   "id": "c996abb2-68b2-43ce-9acf-18965ac111a9",
   "metadata": {},
   "source": [
    "### Step in Slicing:\n",
    "You can also add a step to skip elements:"
   ]
  },
  {
   "cell_type": "code",
   "execution_count": 34,
   "id": "bede5fc2-9a71-4f5a-b7ed-1cd07c798d68",
   "metadata": {},
   "outputs": [
    {
     "name": "stdout",
     "output_type": "stream",
     "text": [
      "['apple', 'cherry', 'elderberry']\n",
      "['elderberry', 'date', 'cherry', 'banana', 'apple']\n"
     ]
    }
   ],
   "source": [
    "print(fruits[0:5:2])  # ['apple', 'cherry', 'elderberry'] (every 2nd item)\n",
    "print(fruits[::-1])   # reverses the list"
   ]
  },
  {
   "cell_type": "markdown",
   "id": "07e840aa-35b6-438f-8699-aa14a2c94887",
   "metadata": {},
   "source": [
    "### Functions – Reusable Blocks of Code\n",
    "A function is a block of code that does one job and can be called multiple times without repeating code."
   ]
  },
  {
   "cell_type": "markdown",
   "id": "91f61b09-7775-42be-9539-1d2bd02220dc",
   "metadata": {},
   "source": [
    "### Simple Function"
   ]
  },
  {
   "cell_type": "code",
   "execution_count": 36,
   "id": "d12dfe1a-a26e-4d5f-95f4-27ef8f659a66",
   "metadata": {},
   "outputs": [
    {
     "name": "stdout",
     "output_type": "stream",
     "text": [
      "Hello!\n",
      "Welcome to Python.\n"
     ]
    }
   ],
   "source": [
    "def greet():\n",
    "    print(\"Hello!\")\n",
    "    print(\"Welcome to Python.\")\n",
    "\n",
    "greet()  # calling the function"
   ]
  },
  {
   "cell_type": "markdown",
   "id": "5663a6f9-c71e-42c1-8892-6155d0a94f3a",
   "metadata": {},
   "source": [
    "### Function with Parameters"
   ]
  },
  {
   "cell_type": "code",
   "execution_count": 37,
   "id": "fe4fdebb-f59a-42eb-8f74-9239b3b63560",
   "metadata": {},
   "outputs": [
    {
     "name": "stdout",
     "output_type": "stream",
     "text": [
      "Hello, Puspa!\n",
      "Hello, Diya!\n",
      "Hello, Arsh!\n"
     ]
    }
   ],
   "source": [
    "def greet_user(name):\n",
    "    print(f\"Hello, {name}!\")\n",
    "\n",
    "greet_user(\"Puspa\")  \n",
    "greet_user(\"Diya\") \n",
    "greet_user(\"Arsh\") "
   ]
  },
  {
   "cell_type": "markdown",
   "id": "9dc77134-9962-483d-af46-0f375e1d738f",
   "metadata": {},
   "source": [
    "### Function that Returns a Value"
   ]
  },
  {
   "cell_type": "code",
   "execution_count": 38,
   "id": "3e61f069-848e-4c32-a0ac-bc264d8c4c7b",
   "metadata": {},
   "outputs": [
    {
     "name": "stdout",
     "output_type": "stream",
     "text": [
      "Sum is: 8\n"
     ]
    }
   ],
   "source": [
    "def add(a, b):\n",
    "    return a + b\n",
    "result = add(3, 5)\n",
    "print(\"Sum is:\", result)"
   ]
  },
  {
   "cell_type": "markdown",
   "id": "a75bedc9-64c5-44bb-b49f-a7412aee6ad1",
   "metadata": {},
   "source": [
    "### Function Arguments — Advanced Usage\n",
    "- Functions can accept:\n",
    "\n",
    "1. Positional arguments\n",
    "2. Keyword arguments\n",
    "3. Default values"
   ]
  },
  {
   "cell_type": "markdown",
   "id": "fcd28a1d-5bc3-4552-bb7d-64a6e2e51b9e",
   "metadata": {},
   "source": [
    "### Positional Arguments\n",
    "- Passed in order, matched by position."
   ]
  },
  {
   "cell_type": "code",
   "execution_count": 40,
   "id": "da9b4e02-1d83-4fe0-80a2-1de5064f748c",
   "metadata": {},
   "outputs": [
    {
     "name": "stdout",
     "output_type": "stream",
     "text": [
      "Hi Alice, you are 25 years old.\n"
     ]
    }
   ],
   "source": [
    "def greet(name, age):\n",
    "    print(f\"Hi {name}, you are {age} years old.\")\n",
    "\n",
    "greet(\"Alice\", 25)"
   ]
  },
  {
   "cell_type": "markdown",
   "id": "7650e51a-8410-4d68-8fed-4fe7de08146d",
   "metadata": {},
   "source": [
    "### Keyword Arguments\n",
    "- You can pass arguments by name, in any order:"
   ]
  },
  {
   "cell_type": "code",
   "execution_count": 41,
   "id": "31e507aa-2944-420b-a1cc-3b1c930fe044",
   "metadata": {},
   "outputs": [
    {
     "name": "stdout",
     "output_type": "stream",
     "text": [
      "Hi Alice, you are 25 years old.\n"
     ]
    }
   ],
   "source": [
    "greet(age=25, name=\"Alice\")"
   ]
  },
  {
   "cell_type": "markdown",
   "id": "df72dbb3-a91e-4742-9083-5f5ea1714362",
   "metadata": {},
   "source": [
    "### Default Parameter Values\n",
    "- Give a default value so it becomes optional when calling:"
   ]
  },
  {
   "cell_type": "code",
   "execution_count": 42,
   "id": "226bf7f8-c17c-4cc8-b5b5-5fbc7b4bdff5",
   "metadata": {},
   "outputs": [
    {
     "name": "stdout",
     "output_type": "stream",
     "text": [
      "Hello, Guest!\n",
      "Hello, Puspa!\n"
     ]
    }
   ],
   "source": [
    "def greet(name=\"Guest\"):\n",
    "    print(f\"Hello, {name}!\")\n",
    "\n",
    "greet()         \n",
    "greet(\"Puspa\") "
   ]
  },
  {
   "cell_type": "markdown",
   "id": "c5f8fcc1-a5d2-4b76-b7d2-62dd7acd7fce",
   "metadata": {},
   "source": [
    "### Error Handling with try and except\n",
    "- Sometimes your code crashes if the user enters the wrong input or something unexpected happens (e.g., dividing by zero).\n",
    "- Error handling helps you catch these problems and handle them gracefully."
   ]
  },
  {
   "cell_type": "markdown",
   "id": "73e143b1-bb14-4fa1-981c-ffd757f9cb02",
   "metadata": {},
   "source": [
    "### Divide by Zero"
   ]
  },
  {
   "cell_type": "code",
   "execution_count": 44,
   "id": "e3706531-9f22-4acd-9417-fe6d408dee2a",
   "metadata": {},
   "outputs": [
    {
     "name": "stdin",
     "output_type": "stream",
     "text": [
      "Enter numerator:  2\n",
      "Enter denominator:  0\n"
     ]
    },
    {
     "name": "stdout",
     "output_type": "stream",
     "text": [
      "You can't divide by zero!\n"
     ]
    }
   ],
   "source": [
    "try:\n",
    "    a = int(input(\"Enter numerator: \"))\n",
    "    b = int(input(\"Enter denominator: \"))\n",
    "    result = a / b\n",
    "    print(\"Result is:\", result)\n",
    "except ZeroDivisionError:\n",
    "    print(\"You can't divide by zero!\")\n",
    "except ValueError:\n",
    "    print(\"You must enter numbers!\")"
   ]
  },
  {
   "cell_type": "markdown",
   "id": "221358dc-83c7-404a-adcd-f25f460e625c",
   "metadata": {},
   "source": [
    "### Optional: else and finally"
   ]
  },
  {
   "cell_type": "code",
   "execution_count": 47,
   "id": "618711d8-86d6-4610-9322-2d203cfcecad",
   "metadata": {},
   "outputs": [
    {
     "name": "stdin",
     "output_type": "stream",
     "text": [
      "Enter a number:  7\n"
     ]
    },
    {
     "name": "stdout",
     "output_type": "stream",
     "text": [
      "Nice! You entered: 7\n",
      "This runs no matter what.\n"
     ]
    }
   ],
   "source": [
    "try:\n",
    "    x = int(input(\"Enter a number: \"))\n",
    "except ValueError:\n",
    "    print(\"Invalid number!\")\n",
    "else:\n",
    "    print(\"Nice! You entered:\", x)\n",
    "finally:\n",
    "    print(\"This runs no matter what.\")"
   ]
  },
  {
   "cell_type": "markdown",
   "id": "6e274fd4-17b7-44ff-aede-e798794d0ba6",
   "metadata": {},
   "source": [
    "### Loops with Lists — Process Items One by One\n",
    "- Using loops with lists is super common in Python — it helps you go through all items and do something with each one."
   ]
  },
  {
   "cell_type": "code",
   "execution_count": 48,
   "id": "b2762f4c-dff8-411a-a038-4fef55b6df78",
   "metadata": {},
   "outputs": [
    {
     "name": "stdout",
     "output_type": "stream",
     "text": [
      "I like apple\n",
      "I like banana\n",
      "I like cherry\n"
     ]
    }
   ],
   "source": [
    "fruits = [\"apple\", \"banana\", \"cherry\"]\n",
    "\n",
    "for fruit in fruits:\n",
    "    print(\"I like\", fruit)"
   ]
  },
  {
   "cell_type": "markdown",
   "id": "c02ee601-6c7e-400b-865f-fc9913dfc705",
   "metadata": {},
   "source": [
    "### Using range() with Lists (By Index):"
   ]
  },
  {
   "cell_type": "code",
   "execution_count": 50,
   "id": "7b3820a4-553f-4c3f-bdd2-ee55dd4cef80",
   "metadata": {},
   "outputs": [
    {
     "name": "stdout",
     "output_type": "stream",
     "text": [
      "Fruit 1: apple\n",
      "Fruit 2: banana\n",
      "Fruit 3: cherry\n"
     ]
    }
   ],
   "source": [
    "for i in range(len(fruits)):\n",
    "    print(f\"Fruit {i+1}: {fruits[i]}\")"
   ]
  },
  {
   "cell_type": "markdown",
   "id": "0ccf1bf4-0b40-4156-a07f-0f31f08461cf",
   "metadata": {},
   "source": [
    "### Looping with enumerate() — Index + Value:"
   ]
  },
  {
   "cell_type": "code",
   "execution_count": 52,
   "id": "cf57ab21-2445-409d-9662-a54d626bf81e",
   "metadata": {},
   "outputs": [
    {
     "name": "stdout",
     "output_type": "stream",
     "text": [
      "1: apple\n",
      "2: banana\n",
      "3: cherry\n"
     ]
    }
   ],
   "source": [
    "for i, fruit in enumerate(fruits):\n",
    "    print(f\"{i+1}: {fruit}\")"
   ]
  },
  {
   "cell_type": "markdown",
   "id": "1866fde3-4651-4ed7-9732-24c43c16b664",
   "metadata": {},
   "source": [
    "### Filtering in Loops:"
   ]
  },
  {
   "cell_type": "code",
   "execution_count": 53,
   "id": "7e885522-4c14-488f-b9c7-ae62ec2a05d0",
   "metadata": {},
   "outputs": [
    {
     "name": "stdout",
     "output_type": "stream",
     "text": [
      "10 is greater than 8\n",
      "15 is greater than 8\n"
     ]
    }
   ],
   "source": [
    "numbers = [5, 10, 15, 2, 7]\n",
    "for n in numbers:\n",
    "    if n > 8:\n",
    "        print(n, \"is greater than 8\")"
   ]
  },
  {
   "cell_type": "markdown",
   "id": "a2fef187-0840-4323-8014-f1547f4d028c",
   "metadata": {},
   "source": [
    "### Dictionaries — Key-Value Pairs\n",
    "- A dictionary stores data in pairs:\n",
    "   Key → Value\n",
    "\n",
    "Key = word\n",
    "Value = definition"
   ]
  },
  {
   "cell_type": "markdown",
   "id": "cc8aee87-c30f-4cc4-85e4-8037b4b7d031",
   "metadata": {},
   "source": [
    "### Creating a Dictionary:"
   ]
  },
  {
   "cell_type": "code",
   "execution_count": 54,
   "id": "d282d22a-06b7-4f5d-b593-09a21ad8889b",
   "metadata": {},
   "outputs": [],
   "source": [
    "student = {\n",
    "    \"name\": \"Alice\",\n",
    "    \"age\": 20,\n",
    "    \"grade\": \"A\"\n",
    "}"
   ]
  },
  {
   "cell_type": "markdown",
   "id": "62cb1c51-7272-45f0-8446-1404dc034358",
   "metadata": {},
   "source": [
    "### Accessing Values:"
   ]
  },
  {
   "cell_type": "code",
   "execution_count": 55,
   "id": "1af8bcf5-14a5-4242-a281-e40e9c5ddfbd",
   "metadata": {},
   "outputs": [
    {
     "name": "stdout",
     "output_type": "stream",
     "text": [
      "Alice\n",
      "A\n"
     ]
    }
   ],
   "source": [
    "print(student[\"name\"])   # Alice\n",
    "print(student[\"grade\"])  # A"
   ]
  },
  {
   "cell_type": "markdown",
   "id": "f71ef624-6fee-4109-a158-06691e5db8b8",
   "metadata": {},
   "source": [
    "### Updating or Adding Items:"
   ]
  },
  {
   "cell_type": "code",
   "execution_count": 56,
   "id": "50055b7a-d6f9-4bc5-ad9c-fc19e86f9f47",
   "metadata": {},
   "outputs": [],
   "source": [
    "student[\"age\"] = 21           # Update\n",
    "student[\"email\"] = \"a@gmail.com\"  # Add new key"
   ]
  },
  {
   "cell_type": "markdown",
   "id": "62e1b144-79da-4fbb-9232-d2c43ab68bed",
   "metadata": {},
   "source": [
    "### Removing a Key:"
   ]
  },
  {
   "cell_type": "code",
   "execution_count": 58,
   "id": "0e32bc1d-a931-4242-a467-1da93bb9887c",
   "metadata": {},
   "outputs": [],
   "source": [
    "del student[\"grade\"]"
   ]
  },
  {
   "cell_type": "markdown",
   "id": "d05e05a7-d537-4e48-a5de-1e0f4c41b772",
   "metadata": {},
   "source": [
    "### Looping Through a Dictionary:"
   ]
  },
  {
   "cell_type": "code",
   "execution_count": 59,
   "id": "07b82221-44e7-41c8-82fd-c1d4ec06406c",
   "metadata": {},
   "outputs": [
    {
     "name": "stdout",
     "output_type": "stream",
     "text": [
      "name : Alice\n",
      "age : 21\n",
      "email : a@gmail.com\n"
     ]
    }
   ],
   "source": [
    "for key in student:\n",
    "    print(key, \":\", student[key])"
   ]
  },
  {
   "cell_type": "markdown",
   "id": "997058e6-225c-4fac-84a3-d439123fe0c2",
   "metadata": {},
   "source": [
    "#### Nested Data Structures — Lists inside Dictionaries & vice versa\n",
    "- This is very useful when you're handling complex or grouped data (like JSON, databases, or real-world objects)."
   ]
  },
  {
   "cell_type": "code",
   "execution_count": 61,
   "id": "d999f046-19b5-475a-9734-d28eeaf3d2a1",
   "metadata": {},
   "outputs": [
    {
     "name": "stdout",
     "output_type": "stream",
     "text": [
      "[85, 90, 78]\n",
      "90\n"
     ]
    }
   ],
   "source": [
    "student = {\n",
    "    \"name\": \"Alice\",\n",
    "    \"grades\": [85, 90, 78]\n",
    "}\n",
    "\n",
    "print(student[\"grades\"])        # [85, 90, 78]\n",
    "print(student[\"grades\"][1])     # 90"
   ]
  },
  {
   "cell_type": "code",
   "execution_count": 62,
   "id": "0d8da52c-fe1d-42fc-b344-c334ec2be32a",
   "metadata": {},
   "outputs": [
    {
     "name": "stdout",
     "output_type": "stream",
     "text": [
      "Alice is 20 years old.\n",
      "Bob is 22 years old.\n",
      "Carol is 19 years old.\n"
     ]
    }
   ],
   "source": [
    "students = [\n",
    "    {\"name\": \"Alice\", \"age\": 20},\n",
    "    {\"name\": \"Bob\", \"age\": 22},\n",
    "    {\"name\": \"Carol\", \"age\": 19}\n",
    "]\n",
    "\n",
    "for student in students:\n",
    "    print(f\"{student['name']} is {student['age']} years old.\")\n"
   ]
  },
  {
   "cell_type": "code",
   "execution_count": 63,
   "id": "c5b0abab-b2b2-4db8-9659-80a682bd22a6",
   "metadata": {},
   "outputs": [
    {
     "name": "stdout",
     "output_type": "stream",
     "text": [
      "Mrs. Smith\n"
     ]
    }
   ],
   "source": [
    "school = {\n",
    "    \"classA\": {\n",
    "        \"teacher\": \"Mrs. Smith\",\n",
    "        \"students\": 25\n",
    "    },\n",
    "    \"classB\": {\n",
    "        \"teacher\": \"Mr. John\",\n",
    "        \"students\": 30\n",
    "    }\n",
    "}\n",
    "\n",
    "print(school[\"classA\"][\"teacher\"])  # Mrs. Smith\n"
   ]
  },
  {
   "cell_type": "markdown",
   "id": "a54ffa5c-c3bc-4842-bb16-1950562a7f25",
   "metadata": {},
   "source": [
    "### File Handling in Python — Read & Write Files\n",
    "File handling allows your program to:\n",
    "- Read data from files (like .txt, .csv)\n",
    "- Write or save data to files"
   ]
  },
  {
   "cell_type": "markdown",
   "id": "94cd5343-9104-4f82-9d42-201966d1ec66",
   "metadata": {},
   "source": [
    "### Opening a File"
   ]
  },
  {
   "cell_type": "code",
   "execution_count": null,
   "id": "8a3bdfd6-249c-4c0e-83eb-647f3bbdefbe",
   "metadata": {},
   "outputs": [],
   "source": [
    "file = open(\"filename.txt\", \"mode\")"
   ]
  },
  {
   "cell_type": "markdown",
   "id": "2a3ba041-7876-4e6a-8c2a-eff317775054",
   "metadata": {},
   "source": [
    "| Mode  | Meaning            |\n",
    "| ----- | ------------------ |\n",
    "| `'r'` | Read               |\n",
    "| `'w'` | Write (overwrites) |\n",
    "| `'a'` | Append (add)       |\n",
    "| `'x'` | Create file        |\n"
   ]
  },
  {
   "cell_type": "code",
   "execution_count": null,
   "id": "6bbe94ab-5253-46af-a581-e4f93c8b1793",
   "metadata": {},
   "outputs": [],
   "source": []
  }
 ],
 "metadata": {
  "kernelspec": {
   "display_name": "Python 3 (ipykernel)",
   "language": "python",
   "name": "python3"
  },
  "language_info": {
   "codemirror_mode": {
    "name": "ipython",
    "version": 3
   },
   "file_extension": ".py",
   "mimetype": "text/x-python",
   "name": "python",
   "nbconvert_exporter": "python",
   "pygments_lexer": "ipython3",
   "version": "3.12.6"
  }
 },
 "nbformat": 4,
 "nbformat_minor": 5
}
